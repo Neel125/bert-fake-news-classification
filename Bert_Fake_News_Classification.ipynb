{
  "nbformat": 4,
  "nbformat_minor": 0,
  "metadata": {
    "kernelspec": {
      "display_name": "Python 3",
      "language": "python",
      "name": "python3"
    },
    "language_info": {
      "codemirror_mode": {
        "name": "ipython",
        "version": 3
      },
      "file_extension": ".py",
      "mimetype": "text/x-python",
      "name": "python",
      "nbconvert_exporter": "python",
      "pygments_lexer": "ipython3",
      "version": "3.8.5"
    },
    "colab": {
      "name": "Bert-Fake-News-Classification.ipynb",
      "provenance": [],
      "collapsed_sections": []
    },
    "accelerator": "GPU"
  },
  "cells": [
    {
      "cell_type": "code",
      "metadata": {
        "id": "P42KidUcBaUu",
        "outputId": "9cc55104-ff44-482d-883a-98c8c1d47023",
        "colab": {
          "base_uri": "https://localhost:8080/"
        }
      },
      "source": [
        "import pandas as pd\n",
        "import numpy as np\n",
        "import matplotlib.pyplot as plt \n",
        "import seaborn as sns\n",
        "from google.colab import drive\n",
        "drive.mount('/content/drive')"
      ],
      "execution_count": 1,
      "outputs": [
        {
          "output_type": "stream",
          "text": [
            "Drive already mounted at /content/drive; to attempt to forcibly remount, call drive.mount(\"/content/drive\", force_remount=True).\n"
          ],
          "name": "stdout"
        }
      ]
    },
    {
      "cell_type": "code",
      "metadata": {
        "id": "mmKUJX0KC91Z",
        "outputId": "c81cb699-1b40-46a8-e39b-b58fe602b30b",
        "colab": {
          "base_uri": "https://localhost:8080/"
        }
      },
      "source": [
        "%cd /content/drive/My\\ Drive/Fake_News_BERT"
      ],
      "execution_count": 2,
      "outputs": [
        {
          "output_type": "stream",
          "text": [
            "/content/drive/My Drive/Fake_News_BERT\n"
          ],
          "name": "stdout"
        }
      ]
    },
    {
      "cell_type": "code",
      "metadata": {
        "id": "S4hZnJJRBaU3",
        "outputId": "6b164623-95d2-4fb4-c2ae-6ca0ba1b28f0",
        "colab": {
          "base_uri": "https://localhost:8080/",
          "height": 204
        }
      },
      "source": [
        "real_data = pd.read_csv('True.csv')\n",
        "fake_data = pd.read_csv('Fake.csv') \n",
        "\n",
        "real_data.head()"
      ],
      "execution_count": 3,
      "outputs": [
        {
          "output_type": "execute_result",
          "data": {
            "text/html": [
              "<div>\n",
              "<style scoped>\n",
              "    .dataframe tbody tr th:only-of-type {\n",
              "        vertical-align: middle;\n",
              "    }\n",
              "\n",
              "    .dataframe tbody tr th {\n",
              "        vertical-align: top;\n",
              "    }\n",
              "\n",
              "    .dataframe thead th {\n",
              "        text-align: right;\n",
              "    }\n",
              "</style>\n",
              "<table border=\"1\" class=\"dataframe\">\n",
              "  <thead>\n",
              "    <tr style=\"text-align: right;\">\n",
              "      <th></th>\n",
              "      <th>title</th>\n",
              "      <th>text</th>\n",
              "      <th>subject</th>\n",
              "      <th>date</th>\n",
              "    </tr>\n",
              "  </thead>\n",
              "  <tbody>\n",
              "    <tr>\n",
              "      <th>0</th>\n",
              "      <td>As U.S. budget fight looms, Republicans flip t...</td>\n",
              "      <td>WASHINGTON (Reuters) - The head of a conservat...</td>\n",
              "      <td>politicsNews</td>\n",
              "      <td>December 31, 2017</td>\n",
              "    </tr>\n",
              "    <tr>\n",
              "      <th>1</th>\n",
              "      <td>U.S. military to accept transgender recruits o...</td>\n",
              "      <td>WASHINGTON (Reuters) - Transgender people will...</td>\n",
              "      <td>politicsNews</td>\n",
              "      <td>December 29, 2017</td>\n",
              "    </tr>\n",
              "    <tr>\n",
              "      <th>2</th>\n",
              "      <td>Senior U.S. Republican senator: 'Let Mr. Muell...</td>\n",
              "      <td>WASHINGTON (Reuters) - The special counsel inv...</td>\n",
              "      <td>politicsNews</td>\n",
              "      <td>December 31, 2017</td>\n",
              "    </tr>\n",
              "    <tr>\n",
              "      <th>3</th>\n",
              "      <td>FBI Russia probe helped by Australian diplomat...</td>\n",
              "      <td>WASHINGTON (Reuters) - Trump campaign adviser ...</td>\n",
              "      <td>politicsNews</td>\n",
              "      <td>December 30, 2017</td>\n",
              "    </tr>\n",
              "    <tr>\n",
              "      <th>4</th>\n",
              "      <td>Trump wants Postal Service to charge 'much mor...</td>\n",
              "      <td>SEATTLE/WASHINGTON (Reuters) - President Donal...</td>\n",
              "      <td>politicsNews</td>\n",
              "      <td>December 29, 2017</td>\n",
              "    </tr>\n",
              "  </tbody>\n",
              "</table>\n",
              "</div>"
            ],
            "text/plain": [
              "                                               title  ...                date\n",
              "0  As U.S. budget fight looms, Republicans flip t...  ...  December 31, 2017 \n",
              "1  U.S. military to accept transgender recruits o...  ...  December 29, 2017 \n",
              "2  Senior U.S. Republican senator: 'Let Mr. Muell...  ...  December 31, 2017 \n",
              "3  FBI Russia probe helped by Australian diplomat...  ...  December 30, 2017 \n",
              "4  Trump wants Postal Service to charge 'much mor...  ...  December 29, 2017 \n",
              "\n",
              "[5 rows x 4 columns]"
            ]
          },
          "metadata": {
            "tags": []
          },
          "execution_count": 3
        }
      ]
    },
    {
      "cell_type": "code",
      "metadata": {
        "id": "P29jDaL3BaU_",
        "outputId": "58ecb411-9091-4365-c3e1-4bdc3767d657",
        "colab": {
          "base_uri": "https://localhost:8080/",
          "height": 204
        }
      },
      "source": [
        "fake_data.head()"
      ],
      "execution_count": 4,
      "outputs": [
        {
          "output_type": "execute_result",
          "data": {
            "text/html": [
              "<div>\n",
              "<style scoped>\n",
              "    .dataframe tbody tr th:only-of-type {\n",
              "        vertical-align: middle;\n",
              "    }\n",
              "\n",
              "    .dataframe tbody tr th {\n",
              "        vertical-align: top;\n",
              "    }\n",
              "\n",
              "    .dataframe thead th {\n",
              "        text-align: right;\n",
              "    }\n",
              "</style>\n",
              "<table border=\"1\" class=\"dataframe\">\n",
              "  <thead>\n",
              "    <tr style=\"text-align: right;\">\n",
              "      <th></th>\n",
              "      <th>title</th>\n",
              "      <th>text</th>\n",
              "      <th>subject</th>\n",
              "      <th>date</th>\n",
              "    </tr>\n",
              "  </thead>\n",
              "  <tbody>\n",
              "    <tr>\n",
              "      <th>0</th>\n",
              "      <td>Donald Trump Sends Out Embarrassing New Year’...</td>\n",
              "      <td>Donald Trump just couldn t wish all Americans ...</td>\n",
              "      <td>News</td>\n",
              "      <td>December 31, 2017</td>\n",
              "    </tr>\n",
              "    <tr>\n",
              "      <th>1</th>\n",
              "      <td>Drunk Bragging Trump Staffer Started Russian ...</td>\n",
              "      <td>House Intelligence Committee Chairman Devin Nu...</td>\n",
              "      <td>News</td>\n",
              "      <td>December 31, 2017</td>\n",
              "    </tr>\n",
              "    <tr>\n",
              "      <th>2</th>\n",
              "      <td>Sheriff David Clarke Becomes An Internet Joke...</td>\n",
              "      <td>On Friday, it was revealed that former Milwauk...</td>\n",
              "      <td>News</td>\n",
              "      <td>December 30, 2017</td>\n",
              "    </tr>\n",
              "    <tr>\n",
              "      <th>3</th>\n",
              "      <td>Trump Is So Obsessed He Even Has Obama’s Name...</td>\n",
              "      <td>On Christmas day, Donald Trump announced that ...</td>\n",
              "      <td>News</td>\n",
              "      <td>December 29, 2017</td>\n",
              "    </tr>\n",
              "    <tr>\n",
              "      <th>4</th>\n",
              "      <td>Pope Francis Just Called Out Donald Trump Dur...</td>\n",
              "      <td>Pope Francis used his annual Christmas Day mes...</td>\n",
              "      <td>News</td>\n",
              "      <td>December 25, 2017</td>\n",
              "    </tr>\n",
              "  </tbody>\n",
              "</table>\n",
              "</div>"
            ],
            "text/plain": [
              "                                               title  ...               date\n",
              "0   Donald Trump Sends Out Embarrassing New Year’...  ...  December 31, 2017\n",
              "1   Drunk Bragging Trump Staffer Started Russian ...  ...  December 31, 2017\n",
              "2   Sheriff David Clarke Becomes An Internet Joke...  ...  December 30, 2017\n",
              "3   Trump Is So Obsessed He Even Has Obama’s Name...  ...  December 29, 2017\n",
              "4   Pope Francis Just Called Out Donald Trump Dur...  ...  December 25, 2017\n",
              "\n",
              "[5 rows x 4 columns]"
            ]
          },
          "metadata": {
            "tags": []
          },
          "execution_count": 4
        }
      ]
    },
    {
      "cell_type": "code",
      "metadata": {
        "id": "4RlxwGbYBaVF"
      },
      "source": [
        "# add label to all data\n",
        "real_data[\"label\"] = 0\n",
        "fake_data[\"label\"] = 1"
      ],
      "execution_count": 5,
      "outputs": []
    },
    {
      "cell_type": "code",
      "metadata": {
        "id": "Za3opoqHBaVL",
        "outputId": "07638ab3-533b-4ed8-d3b4-d0a35ba0384b",
        "colab": {
          "base_uri": "https://localhost:8080/",
          "height": 204
        }
      },
      "source": [
        "real_data.head()"
      ],
      "execution_count": 6,
      "outputs": [
        {
          "output_type": "execute_result",
          "data": {
            "text/html": [
              "<div>\n",
              "<style scoped>\n",
              "    .dataframe tbody tr th:only-of-type {\n",
              "        vertical-align: middle;\n",
              "    }\n",
              "\n",
              "    .dataframe tbody tr th {\n",
              "        vertical-align: top;\n",
              "    }\n",
              "\n",
              "    .dataframe thead th {\n",
              "        text-align: right;\n",
              "    }\n",
              "</style>\n",
              "<table border=\"1\" class=\"dataframe\">\n",
              "  <thead>\n",
              "    <tr style=\"text-align: right;\">\n",
              "      <th></th>\n",
              "      <th>title</th>\n",
              "      <th>text</th>\n",
              "      <th>subject</th>\n",
              "      <th>date</th>\n",
              "      <th>label</th>\n",
              "    </tr>\n",
              "  </thead>\n",
              "  <tbody>\n",
              "    <tr>\n",
              "      <th>0</th>\n",
              "      <td>As U.S. budget fight looms, Republicans flip t...</td>\n",
              "      <td>WASHINGTON (Reuters) - The head of a conservat...</td>\n",
              "      <td>politicsNews</td>\n",
              "      <td>December 31, 2017</td>\n",
              "      <td>0</td>\n",
              "    </tr>\n",
              "    <tr>\n",
              "      <th>1</th>\n",
              "      <td>U.S. military to accept transgender recruits o...</td>\n",
              "      <td>WASHINGTON (Reuters) - Transgender people will...</td>\n",
              "      <td>politicsNews</td>\n",
              "      <td>December 29, 2017</td>\n",
              "      <td>0</td>\n",
              "    </tr>\n",
              "    <tr>\n",
              "      <th>2</th>\n",
              "      <td>Senior U.S. Republican senator: 'Let Mr. Muell...</td>\n",
              "      <td>WASHINGTON (Reuters) - The special counsel inv...</td>\n",
              "      <td>politicsNews</td>\n",
              "      <td>December 31, 2017</td>\n",
              "      <td>0</td>\n",
              "    </tr>\n",
              "    <tr>\n",
              "      <th>3</th>\n",
              "      <td>FBI Russia probe helped by Australian diplomat...</td>\n",
              "      <td>WASHINGTON (Reuters) - Trump campaign adviser ...</td>\n",
              "      <td>politicsNews</td>\n",
              "      <td>December 30, 2017</td>\n",
              "      <td>0</td>\n",
              "    </tr>\n",
              "    <tr>\n",
              "      <th>4</th>\n",
              "      <td>Trump wants Postal Service to charge 'much mor...</td>\n",
              "      <td>SEATTLE/WASHINGTON (Reuters) - President Donal...</td>\n",
              "      <td>politicsNews</td>\n",
              "      <td>December 29, 2017</td>\n",
              "      <td>0</td>\n",
              "    </tr>\n",
              "  </tbody>\n",
              "</table>\n",
              "</div>"
            ],
            "text/plain": [
              "                                               title  ... label\n",
              "0  As U.S. budget fight looms, Republicans flip t...  ...     0\n",
              "1  U.S. military to accept transgender recruits o...  ...     0\n",
              "2  Senior U.S. Republican senator: 'Let Mr. Muell...  ...     0\n",
              "3  FBI Russia probe helped by Australian diplomat...  ...     0\n",
              "4  Trump wants Postal Service to charge 'much mor...  ...     0\n",
              "\n",
              "[5 rows x 5 columns]"
            ]
          },
          "metadata": {
            "tags": []
          },
          "execution_count": 6
        }
      ]
    },
    {
      "cell_type": "code",
      "metadata": {
        "id": "vscYZv64BaVR",
        "outputId": "f5e35e41-5b58-48aa-f53f-f3bf0c4f5a1a",
        "colab": {
          "base_uri": "https://localhost:8080/",
          "height": 204
        }
      },
      "source": [
        "fake_data.head()"
      ],
      "execution_count": 7,
      "outputs": [
        {
          "output_type": "execute_result",
          "data": {
            "text/html": [
              "<div>\n",
              "<style scoped>\n",
              "    .dataframe tbody tr th:only-of-type {\n",
              "        vertical-align: middle;\n",
              "    }\n",
              "\n",
              "    .dataframe tbody tr th {\n",
              "        vertical-align: top;\n",
              "    }\n",
              "\n",
              "    .dataframe thead th {\n",
              "        text-align: right;\n",
              "    }\n",
              "</style>\n",
              "<table border=\"1\" class=\"dataframe\">\n",
              "  <thead>\n",
              "    <tr style=\"text-align: right;\">\n",
              "      <th></th>\n",
              "      <th>title</th>\n",
              "      <th>text</th>\n",
              "      <th>subject</th>\n",
              "      <th>date</th>\n",
              "      <th>label</th>\n",
              "    </tr>\n",
              "  </thead>\n",
              "  <tbody>\n",
              "    <tr>\n",
              "      <th>0</th>\n",
              "      <td>Donald Trump Sends Out Embarrassing New Year’...</td>\n",
              "      <td>Donald Trump just couldn t wish all Americans ...</td>\n",
              "      <td>News</td>\n",
              "      <td>December 31, 2017</td>\n",
              "      <td>1</td>\n",
              "    </tr>\n",
              "    <tr>\n",
              "      <th>1</th>\n",
              "      <td>Drunk Bragging Trump Staffer Started Russian ...</td>\n",
              "      <td>House Intelligence Committee Chairman Devin Nu...</td>\n",
              "      <td>News</td>\n",
              "      <td>December 31, 2017</td>\n",
              "      <td>1</td>\n",
              "    </tr>\n",
              "    <tr>\n",
              "      <th>2</th>\n",
              "      <td>Sheriff David Clarke Becomes An Internet Joke...</td>\n",
              "      <td>On Friday, it was revealed that former Milwauk...</td>\n",
              "      <td>News</td>\n",
              "      <td>December 30, 2017</td>\n",
              "      <td>1</td>\n",
              "    </tr>\n",
              "    <tr>\n",
              "      <th>3</th>\n",
              "      <td>Trump Is So Obsessed He Even Has Obama’s Name...</td>\n",
              "      <td>On Christmas day, Donald Trump announced that ...</td>\n",
              "      <td>News</td>\n",
              "      <td>December 29, 2017</td>\n",
              "      <td>1</td>\n",
              "    </tr>\n",
              "    <tr>\n",
              "      <th>4</th>\n",
              "      <td>Pope Francis Just Called Out Donald Trump Dur...</td>\n",
              "      <td>Pope Francis used his annual Christmas Day mes...</td>\n",
              "      <td>News</td>\n",
              "      <td>December 25, 2017</td>\n",
              "      <td>1</td>\n",
              "    </tr>\n",
              "  </tbody>\n",
              "</table>\n",
              "</div>"
            ],
            "text/plain": [
              "                                               title  ... label\n",
              "0   Donald Trump Sends Out Embarrassing New Year’...  ...     1\n",
              "1   Drunk Bragging Trump Staffer Started Russian ...  ...     1\n",
              "2   Sheriff David Clarke Becomes An Internet Joke...  ...     1\n",
              "3   Trump Is So Obsessed He Even Has Obama’s Name...  ...     1\n",
              "4   Pope Francis Just Called Out Donald Trump Dur...  ...     1\n",
              "\n",
              "[5 rows x 5 columns]"
            ]
          },
          "metadata": {
            "tags": []
          },
          "execution_count": 7
        }
      ]
    },
    {
      "cell_type": "code",
      "metadata": {
        "id": "TFSCdtkyBaVY",
        "outputId": "30df8825-f7e0-4bb2-cbee-7a4522549631",
        "colab": {
          "base_uri": "https://localhost:8080/"
        }
      },
      "source": [
        "print(\"Total length of fake data\", len(fake_data))\n",
        "print(\"Total length of real data\", len(real_data))"
      ],
      "execution_count": 8,
      "outputs": [
        {
          "output_type": "stream",
          "text": [
            "Total length of fake data 23481\n",
            "Total length of real data 21417\n"
          ],
          "name": "stdout"
        }
      ]
    },
    {
      "cell_type": "code",
      "metadata": {
        "id": "6ViNncgdBaVe",
        "outputId": "3d81d90a-7f26-47c0-b135-88e81f5e65a2",
        "colab": {
          "base_uri": "https://localhost:8080/",
          "height": 204
        }
      },
      "source": [
        "# concate fake and real data \n",
        "from sklearn.utils import shuffle\n",
        "\n",
        "data = pd.concat([real_data, fake_data])\n",
        "\n",
        "# Shuffle the data\n",
        "data = shuffle(data).reset_index(drop=True)\n",
        "data.head()"
      ],
      "execution_count": 9,
      "outputs": [
        {
          "output_type": "execute_result",
          "data": {
            "text/html": [
              "<div>\n",
              "<style scoped>\n",
              "    .dataframe tbody tr th:only-of-type {\n",
              "        vertical-align: middle;\n",
              "    }\n",
              "\n",
              "    .dataframe tbody tr th {\n",
              "        vertical-align: top;\n",
              "    }\n",
              "\n",
              "    .dataframe thead th {\n",
              "        text-align: right;\n",
              "    }\n",
              "</style>\n",
              "<table border=\"1\" class=\"dataframe\">\n",
              "  <thead>\n",
              "    <tr style=\"text-align: right;\">\n",
              "      <th></th>\n",
              "      <th>title</th>\n",
              "      <th>text</th>\n",
              "      <th>subject</th>\n",
              "      <th>date</th>\n",
              "      <th>label</th>\n",
              "    </tr>\n",
              "  </thead>\n",
              "  <tbody>\n",
              "    <tr>\n",
              "      <th>0</th>\n",
              "      <td>EVIL GEORGE SOROS vs HUNGARIAN PM: The Battle ...</td>\n",
              "      <td>George Soros gets ugly with the name calling t...</td>\n",
              "      <td>Government News</td>\n",
              "      <td>Nov 6, 2015</td>\n",
              "      <td>1</td>\n",
              "    </tr>\n",
              "    <tr>\n",
              "      <th>1</th>\n",
              "      <td>BREAKING: Sworn Affidavit PROVES Clinton ‘Vic...</td>\n",
              "      <td>Donald Trump thought bringing Juanita Broaddri...</td>\n",
              "      <td>News</td>\n",
              "      <td>October 10, 2016</td>\n",
              "      <td>1</td>\n",
              "    </tr>\n",
              "    <tr>\n",
              "      <th>2</th>\n",
              "      <td>Less Than Half Of Trump Voters Believe Donald...</td>\n",
              "      <td>According to the results from a recent survey ...</td>\n",
              "      <td>News</td>\n",
              "      <td>July 19, 2017</td>\n",
              "      <td>1</td>\n",
              "    </tr>\n",
              "    <tr>\n",
              "      <th>3</th>\n",
              "      <td>U.S. voters say yes to big bond issues, mixed ...</td>\n",
              "      <td>(Reuters) - U.S. voters on Tuesday favored a s...</td>\n",
              "      <td>politicsNews</td>\n",
              "      <td>November 9, 2016</td>\n",
              "      <td>0</td>\n",
              "    </tr>\n",
              "    <tr>\n",
              "      <th>4</th>\n",
              "      <td>Obama tax inversion rules may overstep authori...</td>\n",
              "      <td>WASHINGTON (Reuters) - President Barack Obama’...</td>\n",
              "      <td>politicsNews</td>\n",
              "      <td>April 15, 2016</td>\n",
              "      <td>0</td>\n",
              "    </tr>\n",
              "  </tbody>\n",
              "</table>\n",
              "</div>"
            ],
            "text/plain": [
              "                                               title  ... label\n",
              "0  EVIL GEORGE SOROS vs HUNGARIAN PM: The Battle ...  ...     1\n",
              "1   BREAKING: Sworn Affidavit PROVES Clinton ‘Vic...  ...     1\n",
              "2   Less Than Half Of Trump Voters Believe Donald...  ...     1\n",
              "3  U.S. voters say yes to big bond issues, mixed ...  ...     0\n",
              "4  Obama tax inversion rules may overstep authori...  ...     0\n",
              "\n",
              "[5 rows x 5 columns]"
            ]
          },
          "metadata": {
            "tags": []
          },
          "execution_count": 9
        }
      ]
    },
    {
      "cell_type": "code",
      "metadata": {
        "id": "5NONzf0XBaVl"
      },
      "source": [
        "import re\n",
        "def clean_txt(text):\n",
        "    text = re.sub(\"'\", \"\", text)\n",
        "    text = re.sub(\"(\\\\W)+\", \" \", text)\n",
        "    text = text.lower()\n",
        "    return text\n",
        "\n",
        "# data['text'] = data['text'].apply(clean_txt)"
      ],
      "execution_count": 10,
      "outputs": []
    },
    {
      "cell_type": "code",
      "metadata": {
        "id": "WUY4l8QfBaVq",
        "outputId": "22f74294-40af-4eb9-e598-424c1731ef8d",
        "colab": {
          "base_uri": "https://localhost:8080/",
          "height": 351
        }
      },
      "source": [
        "data['word_count'] = [len(s.split()) for s in data['text']]\n",
        "#real \n",
        "sns.distplot(data['word_count'][data['label'] == 0], kde=False, rug=False)"
      ],
      "execution_count": 11,
      "outputs": [
        {
          "output_type": "stream",
          "text": [
            "/usr/local/lib/python3.6/dist-packages/seaborn/distributions.py:2551: FutureWarning: `distplot` is a deprecated function and will be removed in a future version. Please adapt your code to use either `displot` (a figure-level function with similar flexibility) or `histplot` (an axes-level function for histograms).\n",
            "  warnings.warn(msg, FutureWarning)\n"
          ],
          "name": "stderr"
        },
        {
          "output_type": "execute_result",
          "data": {
            "text/plain": [
              "<matplotlib.axes._subplots.AxesSubplot at 0x7f01f7bdec18>"
            ]
          },
          "metadata": {
            "tags": []
          },
          "execution_count": 11
        },
        {
          "output_type": "display_data",
          "data": {
            "image/png": "[encoded data removed]",
            "text/plain": [
              "<Figure size 432x288 with 1 Axes>"
            ]
          },
          "metadata": {
            "tags": [],
            "needs_background": "light"
          }
        }
      ]
    },
    {
      "cell_type": "code",
      "metadata": {
        "id": "sceo83xTBaVw",
        "outputId": "e00936a5-1b46-48a6-ef24-b0d8fc382c80",
        "colab": {
          "base_uri": "https://localhost:8080/",
          "height": 355
        }
      },
      "source": [
        "#fake \n",
        "sns.distplot(data['word_count'][data['label'] == 1], kde=False, rug=False)"
      ],
      "execution_count": 12,
      "outputs": [
        {
          "output_type": "stream",
          "text": [
            "/usr/local/lib/python3.6/dist-packages/seaborn/distributions.py:2551: FutureWarning: `distplot` is a deprecated function and will be removed in a future version. Please adapt your code to use either `displot` (a figure-level function with similar flexibility) or `histplot` (an axes-level function for histograms).\n",
            "  warnings.warn(msg, FutureWarning)\n"
          ],
          "name": "stderr"
        },
        {
          "output_type": "execute_result",
          "data": {
            "text/plain": [
              "<matplotlib.axes._subplots.AxesSubplot at 0x7f01f7f10c18>"
            ]
          },
          "metadata": {
            "tags": []
          },
          "execution_count": 12
        },
        {
          "output_type": "display_data",
          "data": {
            "image/png": "[encoded data removed]",
            "text/plain": [
              "<Figure size 432x288 with 1 Axes>"
            ]
          },
          "metadata": {
            "tags": [],
            "needs_background": "light"
          }
        }
      ]
    },
    {
      "cell_type": "code",
      "metadata": {
        "id": "M489he08BaV1",
        "outputId": "6f7961b1-e70b-4d8b-a4bf-de7e3add1624",
        "colab": {
          "base_uri": "https://localhost:8080/"
        }
      },
      "source": [
        "# total news per subject\n",
        "data[\"subject\"].value_counts()"
      ],
      "execution_count": 13,
      "outputs": [
        {
          "output_type": "execute_result",
          "data": {
            "text/plain": [
              "politicsNews       11272\n",
              "worldnews          10145\n",
              "News                9050\n",
              "politics            6841\n",
              "left-news           4459\n",
              "Government News     1570\n",
              "US_News              783\n",
              "Middle-east          778\n",
              "Name: subject, dtype: int64"
            ]
          },
          "metadata": {
            "tags": []
          },
          "execution_count": 13
        }
      ]
    },
    {
      "cell_type": "code",
      "metadata": {
        "id": "SEYfiZBFBaV7",
        "outputId": "a9751566-2d31-47ad-ff2c-175225632ea4",
        "colab": {
          "base_uri": "https://localhost:8080/"
        }
      },
      "source": [
        "# fake news per subject\n",
        "data[data[\"label\"] == 1][\"subject\"].value_counts()"
      ],
      "execution_count": 14,
      "outputs": [
        {
          "output_type": "execute_result",
          "data": {
            "text/plain": [
              "News               9050\n",
              "politics           6841\n",
              "left-news          4459\n",
              "Government News    1570\n",
              "US_News             783\n",
              "Middle-east         778\n",
              "Name: subject, dtype: int64"
            ]
          },
          "metadata": {
            "tags": []
          },
          "execution_count": 14
        }
      ]
    },
    {
      "cell_type": "code",
      "metadata": {
        "id": "5DcT7vWhBaWC",
        "outputId": "1f295773-8ab1-4ce0-be8d-fd743b940564",
        "colab": {
          "base_uri": "https://localhost:8080/"
        }
      },
      "source": [
        "# real news per subject\n",
        "data[data[\"label\"] == 0][\"subject\"].value_counts()"
      ],
      "execution_count": 15,
      "outputs": [
        {
          "output_type": "execute_result",
          "data": {
            "text/plain": [
              "politicsNews    11272\n",
              "worldnews       10145\n",
              "Name: subject, dtype: int64"
            ]
          },
          "metadata": {
            "tags": []
          },
          "execution_count": 15
        }
      ]
    },
    {
      "cell_type": "code",
      "metadata": {
        "id": "tLWoIlieBaWI",
        "outputId": "b6cfafc2-30bb-4cd9-a1e0-851f6072d184",
        "colab": {
          "base_uri": "https://localhost:8080/",
          "height": 351
        }
      },
      "source": [
        "sns.countplot(data[\"subject\"])"
      ],
      "execution_count": 16,
      "outputs": [
        {
          "output_type": "stream",
          "text": [
            "/usr/local/lib/python3.6/dist-packages/seaborn/_decorators.py:43: FutureWarning: Pass the following variable as a keyword arg: x. From version 0.12, the only valid positional argument will be `data`, and passing other arguments without an explicit keyword will result in an error or misinterpretation.\n",
            "  FutureWarning\n"
          ],
          "name": "stderr"
        },
        {
          "output_type": "execute_result",
          "data": {
            "text/plain": [
              "<matplotlib.axes._subplots.AxesSubplot at 0x7f01f63660f0>"
            ]
          },
          "metadata": {
            "tags": []
          },
          "execution_count": 16
        },
        {
          "output_type": "display_data",
          "data": {
            "image/png": "[encoded data removed]",
            "text/plain": [
              "<Figure size 432x288 with 1 Axes>"
            ]
          },
          "metadata": {
            "tags": [],
            "needs_background": "light"
          }
        }
      ]
    },
    {
      "cell_type": "code",
      "metadata": {
        "id": "JOyYcJEEBaWP",
        "outputId": "887f625d-f7a5-4612-97f8-40ff3001f094",
        "colab": {
          "base_uri": "https://localhost:8080/",
          "height": 350
        }
      },
      "source": [
        "sns.countplot(data[data[\"label\"] == 0][\"subject\"])"
      ],
      "execution_count": 17,
      "outputs": [
        {
          "output_type": "stream",
          "text": [
            "/usr/local/lib/python3.6/dist-packages/seaborn/_decorators.py:43: FutureWarning: Pass the following variable as a keyword arg: x. From version 0.12, the only valid positional argument will be `data`, and passing other arguments without an explicit keyword will result in an error or misinterpretation.\n",
            "  FutureWarning\n"
          ],
          "name": "stderr"
        },
        {
          "output_type": "execute_result",
          "data": {
            "text/plain": [
              "<matplotlib.axes._subplots.AxesSubplot at 0x7f01f62d9080>"
            ]
          },
          "metadata": {
            "tags": []
          },
          "execution_count": 17
        },
        {
          "output_type": "display_data",
          "data": {
            "image/png": "[encoded data removed]",
            "text/plain": [
              "<Figure size 432x288 with 1 Axes>"
            ]
          },
          "metadata": {
            "tags": [],
            "needs_background": "light"
          }
        }
      ]
    },
    {
      "cell_type": "code",
      "metadata": {
        "id": "3cY666GcBaWU",
        "outputId": "1e342c1c-46f4-4d8a-cc4b-0690f8a55bea",
        "colab": {
          "base_uri": "https://localhost:8080/",
          "height": 351
        }
      },
      "source": [
        "sns.countplot(data[data[\"label\"] == 1][\"subject\"])"
      ],
      "execution_count": 18,
      "outputs": [
        {
          "output_type": "stream",
          "text": [
            "/usr/local/lib/python3.6/dist-packages/seaborn/_decorators.py:43: FutureWarning: Pass the following variable as a keyword arg: x. From version 0.12, the only valid positional argument will be `data`, and passing other arguments without an explicit keyword will result in an error or misinterpretation.\n",
            "  FutureWarning\n"
          ],
          "name": "stderr"
        },
        {
          "output_type": "execute_result",
          "data": {
            "text/plain": [
              "<matplotlib.axes._subplots.AxesSubplot at 0x7f01f6354d30>"
            ]
          },
          "metadata": {
            "tags": []
          },
          "execution_count": 18
        },
        {
          "output_type": "display_data",
          "data": {
            "image/png": "[encoded data removed]",
            "text/plain": [
              "<Figure size 432x288 with 1 Axes>"
            ]
          },
          "metadata": {
            "tags": [],
            "needs_background": "light"
          }
        }
      ]
    },
    {
      "cell_type": "code",
      "metadata": {
        "id": "zi_SPqbEBaWZ"
      },
      "source": [
        "from sklearn.model_selection import train_test_split"
      ],
      "execution_count": 19,
      "outputs": []
    },
    {
      "cell_type": "code",
      "metadata": {
        "id": "m4kZMP3ABaWe"
      },
      "source": [
        "X_train, X_test, y_train, y_test = train_test_split(data[\"text\"], data[\"label\"], test_size=0.25, random_state=42)"
      ],
      "execution_count": 20,
      "outputs": []
    },
    {
      "cell_type": "code",
      "metadata": {
        "id": "zIs6UXwKDUFs",
        "outputId": "ae01d3f7-1029-4696-dc52-953e60170408",
        "colab": {
          "base_uri": "https://localhost:8080/"
        }
      },
      "source": [
        "!pip install transformers"
      ],
      "execution_count": 21,
      "outputs": [
        {
          "output_type": "stream",
          "text": [
            "Requirement already satisfied: transformers in /usr/local/lib/python3.6/dist-packages (3.4.0)\n",
            "Requirement already satisfied: filelock in /usr/local/lib/python3.6/dist-packages (from transformers) (3.0.12)\n",
            "Requirement already satisfied: numpy in /usr/local/lib/python3.6/dist-packages (from transformers) (1.18.5)\n",
            "Requirement already satisfied: protobuf in /usr/local/lib/python3.6/dist-packages (from transformers) (3.12.4)\n",
            "Requirement already satisfied: regex!=2019.12.17 in /usr/local/lib/python3.6/dist-packages (from transformers) (2019.12.20)\n",
            "Requirement already satisfied: dataclasses; python_version < \"3.7\" in /usr/local/lib/python3.6/dist-packages (from transformers) (0.7)\n",
            "Requirement already satisfied: sentencepiece!=0.1.92 in /usr/local/lib/python3.6/dist-packages (from transformers) (0.1.94)\n",
            "Requirement already satisfied: requests in /usr/local/lib/python3.6/dist-packages (from transformers) (2.23.0)\n",
            "Requirement already satisfied: packaging in /usr/local/lib/python3.6/dist-packages (from transformers) (20.4)\n",
            "Requirement already satisfied: sacremoses in /usr/local/lib/python3.6/dist-packages (from transformers) (0.0.43)\n",
            "Requirement already satisfied: tqdm>=4.27 in /usr/local/lib/python3.6/dist-packages (from transformers) (4.41.1)\n",
            "Requirement already satisfied: tokenizers==0.9.2 in /usr/local/lib/python3.6/dist-packages (from transformers) (0.9.2)\n",
            "Requirement already satisfied: six>=1.9 in /usr/local/lib/python3.6/dist-packages (from protobuf->transformers) (1.15.0)\n",
            "Requirement already satisfied: setuptools in /usr/local/lib/python3.6/dist-packages (from protobuf->transformers) (50.3.2)\n",
            "Requirement already satisfied: certifi>=2017.4.17 in /usr/local/lib/python3.6/dist-packages (from requests->transformers) (2020.6.20)\n",
            "Requirement already satisfied: urllib3!=1.25.0,!=1.25.1,<1.26,>=1.21.1 in /usr/local/lib/python3.6/dist-packages (from requests->transformers) (1.24.3)\n",
            "Requirement already satisfied: idna<3,>=2.5 in /usr/local/lib/python3.6/dist-packages (from requests->transformers) (2.10)\n",
            "Requirement already satisfied: chardet<4,>=3.0.2 in /usr/local/lib/python3.6/dist-packages (from requests->transformers) (3.0.4)\n",
            "Requirement already satisfied: pyparsing>=2.0.2 in /usr/local/lib/python3.6/dist-packages (from packaging->transformers) (2.4.7)\n",
            "Requirement already satisfied: click in /usr/local/lib/python3.6/dist-packages (from sacremoses->transformers) (7.1.2)\n",
            "Requirement already satisfied: joblib in /usr/local/lib/python3.6/dist-packages (from sacremoses->transformers) (0.17.0)\n"
          ],
          "name": "stdout"
        }
      ]
    },
    {
      "cell_type": "code",
      "metadata": {
        "scrolled": true,
        "id": "GjFDVdxZBaWj",
        "outputId": "e61ceabc-02ca-420b-8b15-632e57c22db0",
        "colab": {
          "base_uri": "https://localhost:8080/"
        }
      },
      "source": [
        "from transformers import BertTokenizer, BertForSequenceClassification\n",
        "import torch\n",
        "import torch.nn as nn\n",
        "import torch.optim as optim\n",
        "import torch.nn.functional as F\n",
        "\n",
        "device = torch.device('cuda') if torch.cuda.is_available() else torch.device('cpu')\n",
        "\n",
        "tokenizer = BertTokenizer.from_pretrained(\"bert-base-uncased\")\n",
        "model = BertForSequenceClassification.from_pretrained(\"bert-base-uncased\")\n",
        "model.config.num_labels = 1"
      ],
      "execution_count": 22,
      "outputs": [
        {
          "output_type": "stream",
          "text": [
            "Some weights of the model checkpoint at bert-base-uncased were not used when initializing BertForSequenceClassification: ['cls.predictions.bias', 'cls.predictions.transform.dense.weight', 'cls.predictions.transform.dense.bias', 'cls.predictions.decoder.weight', 'cls.seq_relationship.weight', 'cls.seq_relationship.bias', 'cls.predictions.transform.LayerNorm.weight', 'cls.predictions.transform.LayerNorm.bias']\n",
            "- This IS expected if you are initializing BertForSequenceClassification from the checkpoint of a model trained on another task or with another architecture (e.g. initializing a BertForSequenceClassification model from a BertForPretraining model).\n",
            "- This IS NOT expected if you are initializing BertForSequenceClassification from the checkpoint of a model that you expect to be exactly identical (initializing a BertForSequenceClassification model from a BertForSequenceClassification model).\n",
            "Some weights of BertForSequenceClassification were not initialized from the model checkpoint at bert-base-uncased and are newly initialized: ['classifier.weight', 'classifier.bias']\n",
            "You should probably TRAIN this model on a down-stream task to be able to use it for predictions and inference.\n"
          ],
          "name": "stderr"
        }
      ]
    },
    {
      "cell_type": "code",
      "metadata": {
        "id": "6PiVlM8mBaWo"
      },
      "source": [
        "# Freeze the pre trained parameters\n",
        "for param in model.parameters():\n",
        "    param.requires_grad = False\n",
        "\n",
        "# Add three new layers at the end of the network\n",
        "model.classifier = nn.Sequential(\n",
        "    nn.Linear(768, 256),\n",
        "    nn.ReLU(),\n",
        "    nn.Linear(256, 64),\n",
        "    nn.ReLU(),\n",
        "    nn.Linear(64, 2),\n",
        "    nn.Softmax(dim=1)\n",
        ")\n",
        "\n",
        "model = model.to(device)\n",
        "criterion = nn.MSELoss().to(device)\n",
        "optimizer = optim.SGD(model.classifier.parameters(), lr=0.01)"
      ],
      "execution_count": 23,
      "outputs": []
    },
    {
      "cell_type": "code",
      "metadata": {
        "id": "P1UzhOKpBaWt"
      },
      "source": [
        "def preprocess_text(text):\n",
        "    parts = []\n",
        "    text_len = len(text.split(' '))\n",
        "    delta = 300\n",
        "    max_parts = 5\n",
        "    nb_cuts = int(text_len / delta)\n",
        "    nb_cuts = min(nb_cuts, max_parts)\n",
        "        \n",
        "    for i in range(nb_cuts + 1):\n",
        "        text_part = ' '.join(text.split(' ')[i * delta: (i + 1) * delta])\n",
        "        parts.append(tokenizer.encode(text_part, return_tensors=\"pt\", max_length=500).to(device))\n",
        "\n",
        "    return parts"
      ],
      "execution_count": 24,
      "outputs": []
    },
    {
      "cell_type": "markdown",
      "metadata": {
        "id": "dxPApGudBaWy"
      },
      "source": [
        "### Train model"
      ]
    },
    {
      "cell_type": "code",
      "metadata": {
        "id": "YxpI3ZARBaWz",
        "outputId": "ec5fbbc1-937e-4313-99a9-b94ec97453d2",
        "colab": {
          "base_uri": "https://localhost:8080/"
        }
      },
      "source": [
        "print_every = 300\n",
        "total_loss = 0\n",
        "all_losses = []\n",
        "\n",
        "CUDA_LAUNCH_BLOCKING=1\n",
        "\n",
        "model.train()\n",
        "idx = 0\n",
        "for row, label in zip(X_train, y_train):\n",
        "    text_parts = preprocess_text(str(row))\n",
        "    label = torch.tensor([label]).long().to(device)\n",
        "    optimizer.zero_grad()\n",
        "    overall_output = torch.zeros((1, 2)).float().to(device)\n",
        "    for part in text_parts:\n",
        "        if len(part) > 0:\n",
        "            try:\n",
        "                input = part.reshape(-1)[:512].reshape(1, -1)\n",
        "                # print(input.shape)\n",
        "                overall_output += model(input, labels=label)[1].float().to(device)\n",
        "            except Exception as e:\n",
        "                print(str(e))\n",
        "\n",
        "#     overall_output /= len(text_parts)\n",
        "    overall_output = F.softmax(overall_output[0], dim=-1)\n",
        "\n",
        "    if label == 0:\n",
        "        label = torch.tensor([1.0, 0.0]).float().to(device)\n",
        "    elif label == 1:\n",
        "        label = torch.tensor([0.0, 1.0]).float().to(device)\n",
        "\n",
        "    # print(overall_output, label)\n",
        "\n",
        "    loss = criterion(overall_output, label)\n",
        "    total_loss += loss.item()\n",
        "    \n",
        "    loss.backward()\n",
        "    optimizer.step()\n",
        "\n",
        "    if idx % print_every == 0 and idx > 0:\n",
        "        average_loss = total_loss / print_every\n",
        "        print(\"{}/{}. Average loss: {}\".format(idx, len(X_train), average_loss))\n",
        "        all_losses.append(average_loss)\n",
        "        total_loss = 0\n",
        "    idx += 1"
      ],
      "execution_count": 25,
      "outputs": [
        {
          "output_type": "stream",
          "text": [
            "Truncation was not explicitely activated but `max_length` is provided a specific value, please use `truncation=True` to explicitely truncate examples to max length. Defaulting to 'longest_first' truncation strategy. If you encode pairs of sequences (GLUE-style) with the tokenizer you can select this strategy more precisely by providing a specific strategy to `truncation`.\n"
          ],
          "name": "stderr"
        },
        {
          "output_type": "stream",
          "text": [
            "300/33673. Average loss: 0.24499406894048056\n",
            "600/33673. Average loss: 0.2234831730866184\n",
            "900/33673. Average loss: 0.1969467364748319\n",
            "1200/33673. Average loss: 0.1743896411594081\n",
            "1500/33673. Average loss: 0.1571204985678196\n",
            "1800/33673. Average loss: 0.13131526296715795\n",
            "2100/33673. Average loss: 0.10861681620784415\n",
            "2400/33673. Average loss: 0.11775071197858779\n",
            "2700/33673. Average loss: 0.11364742883413176\n",
            "3000/33673. Average loss: 0.11072270544025135\n",
            "3300/33673. Average loss: 0.08826541552611161\n",
            "3600/33673. Average loss: 0.10361143444567764\n",
            "3900/33673. Average loss: 0.09350596546314288\n",
            "4200/33673. Average loss: 0.085744520215776\n",
            "4500/33673. Average loss: 0.09550129718314565\n",
            "4800/33673. Average loss: 0.0874065300996881\n",
            "5100/33673. Average loss: 0.09565096165216345\n",
            "5400/33673. Average loss: 0.07565730300530049\n",
            "5700/33673. Average loss: 0.08981805665204774\n",
            "6000/33673. Average loss: 0.06766202066334699\n",
            "6300/33673. Average loss: 0.07979847876525127\n",
            "6600/33673. Average loss: 0.10976769403539947\n",
            "6900/33673. Average loss: 0.08391273858161488\n",
            "7200/33673. Average loss: 0.07132060653452148\n",
            "7500/33673. Average loss: 0.08129547765230503\n",
            "7800/33673. Average loss: 0.09537414921665308\n",
            "8100/33673. Average loss: 0.08697398245647794\n",
            "8400/33673. Average loss: 0.10238175319793906\n",
            "8700/33673. Average loss: 0.06315299217530992\n",
            "9000/33673. Average loss: 0.09126670096256931\n",
            "9300/33673. Average loss: 0.08822333047859048\n",
            "9600/33673. Average loss: 0.06751729759437392\n",
            "9900/33673. Average loss: 0.07972038838178075\n",
            "10200/33673. Average loss: 0.07758281457118453\n",
            "10500/33673. Average loss: 0.09883716558788214\n",
            "10800/33673. Average loss: 0.08604888675148686\n",
            "11100/33673. Average loss: 0.08525225102686211\n",
            "11400/33673. Average loss: 0.08298076811429686\n",
            "11700/33673. Average loss: 0.07558145003207756\n",
            "12000/33673. Average loss: 0.0725282720401204\n",
            "12300/33673. Average loss: 0.06581002437840652\n",
            "12600/33673. Average loss: 0.08021594141086098\n",
            "12900/33673. Average loss: 0.08957583007283877\n",
            "13200/33673. Average loss: 0.07083951416777078\n",
            "13500/33673. Average loss: 0.08032868993762046\n",
            "13800/33673. Average loss: 0.07292499442130368\n",
            "14100/33673. Average loss: 0.08237602261754849\n",
            "14400/33673. Average loss: 0.0850098576583044\n",
            "14700/33673. Average loss: 0.07673035584076388\n",
            "15000/33673. Average loss: 0.06654143975669286\n",
            "15300/33673. Average loss: 0.08407485572291383\n",
            "15600/33673. Average loss: 0.08661390278066392\n",
            "15900/33673. Average loss: 0.08533138462938798\n",
            "16200/33673. Average loss: 0.0962301243823913\n",
            "16500/33673. Average loss: 0.06877618744460051\n",
            "16800/33673. Average loss: 0.06297714249230467\n",
            "17100/33673. Average loss: 0.08207143507939084\n",
            "17400/33673. Average loss: 0.07956688918270326\n",
            "17700/33673. Average loss: 0.0752522514204505\n",
            "18000/33673. Average loss: 0.07959482785218824\n",
            "18300/33673. Average loss: 0.085690414101288\n",
            "18600/33673. Average loss: 0.07335519424623574\n",
            "18900/33673. Average loss: 0.09092196416899241\n",
            "19200/33673. Average loss: 0.08713949668347293\n",
            "19500/33673. Average loss: 0.07569776419994317\n",
            "19800/33673. Average loss: 0.0761407854953965\n",
            "20100/33673. Average loss: 0.07696437739384238\n",
            "20400/33673. Average loss: 0.07071991375765871\n",
            "20700/33673. Average loss: 0.07095974684082952\n",
            "21000/33673. Average loss: 0.06349727730894908\n",
            "21300/33673. Average loss: 0.06700194091289631\n",
            "21600/33673. Average loss: 0.06258831936429943\n",
            "21900/33673. Average loss: 0.06695484732277691\n",
            "22200/33673. Average loss: 0.079118047604649\n",
            "22500/33673. Average loss: 0.0663349735168352\n",
            "22800/33673. Average loss: 0.05252477980042083\n",
            "23100/33673. Average loss: 0.05495043188079459\n",
            "23400/33673. Average loss: 0.07491108079403906\n",
            "23700/33673. Average loss: 0.07771071741460976\n",
            "24000/33673. Average loss: 0.07643104116342025\n",
            "24300/33673. Average loss: 0.07671073383534956\n",
            "24600/33673. Average loss: 0.06929482605171264\n",
            "24900/33673. Average loss: 0.07385530847314992\n",
            "25200/33673. Average loss: 0.0704425474466431\n",
            "25500/33673. Average loss: 0.07069800261891487\n",
            "25800/33673. Average loss: 0.07029016210368809\n",
            "26100/33673. Average loss: 0.07710292233382612\n",
            "26400/33673. Average loss: 0.07107754749213958\n",
            "26700/33673. Average loss: 0.07185204772680057\n",
            "27000/33673. Average loss: 0.07086801984915231\n",
            "27300/33673. Average loss: 0.060760604567863086\n",
            "27600/33673. Average loss: 0.059556347219956174\n",
            "27900/33673. Average loss: 0.07439516590768866\n",
            "28200/33673. Average loss: 0.0779111193134698\n",
            "28500/33673. Average loss: 0.06961113067885587\n",
            "28800/33673. Average loss: 0.07405480591007593\n",
            "29100/33673. Average loss: 0.06884940044235009\n",
            "29400/33673. Average loss: 0.07292814658702507\n",
            "29700/33673. Average loss: 0.07586450497127468\n",
            "30000/33673. Average loss: 0.06523109069530922\n",
            "30300/33673. Average loss: 0.07415213147847681\n",
            "30600/33673. Average loss: 0.07279967967362456\n",
            "30900/33673. Average loss: 0.07637665050956002\n",
            "31200/33673. Average loss: 0.06183835771126875\n",
            "31500/33673. Average loss: 0.07736224064321201\n",
            "31800/33673. Average loss: 0.06918496672761346\n",
            "32100/33673. Average loss: 0.07545015434718304\n",
            "32400/33673. Average loss: 0.06285712186211488\n",
            "32700/33673. Average loss: 0.07760886984893205\n",
            "33000/33673. Average loss: 0.08457858576578323\n",
            "33300/33673. Average loss: 0.06328297842544543\n",
            "33600/33673. Average loss: 0.0828975013786112\n"
          ],
          "name": "stdout"
        }
      ]
    },
    {
      "cell_type": "code",
      "metadata": {
        "id": "a9CW9_ezBaW4",
        "outputId": "b412aca9-6582-4272-a5d8-51d005a9294f",
        "colab": {
          "base_uri": "https://localhost:8080/",
          "height": 282
        }
      },
      "source": [
        "import matplotlib.pyplot as plt\n",
        "%matplotlib inline\n",
        "\n",
        "torch.save(model.state_dict(), \"model.pt\")\n",
        "plt.plot(all_losses)"
      ],
      "execution_count": 26,
      "outputs": [
        {
          "output_type": "execute_result",
          "data": {
            "text/plain": [
              "[<matplotlib.lines.Line2D at 0x7f016eeb1710>]"
            ]
          },
          "metadata": {
            "tags": []
          },
          "execution_count": 26
        },
        {
          "output_type": "display_data",
          "data": {
            "image/png": "[encoded data removed]",
            "text/plain": [
              "<Figure size 432x288 with 1 Axes>"
            ]
          },
          "metadata": {
            "tags": [],
            "needs_background": "light"
          }
        }
      ]
    },
    {
      "cell_type": "markdown",
      "metadata": {
        "id": "1cgyOaEcBaW-"
      },
      "source": [
        "### Test Accuracy on Test Data"
      ]
    },
    {
      "cell_type": "code",
      "metadata": {
        "id": "CyUcVrO2BaW_",
        "outputId": "9478e166-f58e-4365-be71-58b618bff59f",
        "colab": {
          "base_uri": "https://localhost:8080/"
        }
      },
      "source": [
        "total = len(X_test)\n",
        "number_right = 0\n",
        "model.eval()\n",
        "with torch.no_grad():\n",
        "    idx = 0\n",
        "    for row, label in zip(X_test, y_test):\n",
        "        text_parts = preprocess_text(str(row))\n",
        "        label = torch.tensor([label]).float().to(device)\n",
        "        \n",
        "        overall_output = torch.zeros((1,2)).to(device)\n",
        "        try:\n",
        "            for part in text_parts:\n",
        "                if len(part) > 0:\n",
        "                    overall_output += model(part.reshape(1, -1))[0]\n",
        "        except RuntimeError:\n",
        "            print(\"GPU out of memory, skipping this entry.\")\n",
        "            continue\n",
        "            \n",
        "        overall_output = F.softmax(overall_output[0], dim=-1)\n",
        "            \n",
        "        result = overall_output.max(0)[1].float().item()\n",
        " \n",
        "        if result == label.item():\n",
        "            number_right += 1\n",
        "            \n",
        "        if idx % print_every == 0 and idx > 0:\n",
        "            print(\"{}/{}. Current accuracy: {}\".format(idx, total, number_right / idx))\n",
        "        idx += 1 \n",
        "            \n",
        "print(\"Accuracy on test data: {}\".format(number_right / total))"
      ],
      "execution_count": 27,
      "outputs": [
        {
          "output_type": "stream",
          "text": [
            "300/11225. Current accuracy: 0.96\n",
            "600/11225. Current accuracy: 0.965\n",
            "900/11225. Current accuracy: 0.9588888888888889\n",
            "1200/11225. Current accuracy: 0.9591666666666666\n",
            "1500/11225. Current accuracy: 0.9586666666666667\n",
            "1800/11225. Current accuracy: 0.9572222222222222\n",
            "2100/11225. Current accuracy: 0.9580952380952381\n",
            "2400/11225. Current accuracy: 0.9595833333333333\n",
            "2700/11225. Current accuracy: 0.9607407407407408\n",
            "3000/11225. Current accuracy: 0.9596666666666667\n",
            "3300/11225. Current accuracy: 0.9581818181818181\n",
            "3600/11225. Current accuracy: 0.9575\n",
            "3900/11225. Current accuracy: 0.9579487179487179\n",
            "4200/11225. Current accuracy: 0.9561904761904761\n",
            "4500/11225. Current accuracy: 0.9568888888888889\n",
            "4800/11225. Current accuracy: 0.9560416666666667\n",
            "5100/11225. Current accuracy: 0.9531372549019608\n",
            "5400/11225. Current accuracy: 0.9525925925925925\n",
            "5700/11225. Current accuracy: 0.9529824561403509\n",
            "6000/11225. Current accuracy: 0.955\n",
            "6300/11225. Current accuracy: 0.9555555555555556\n",
            "6600/11225. Current accuracy: 0.9562121212121212\n",
            "6900/11225. Current accuracy: 0.9555072463768116\n",
            "7200/11225. Current accuracy: 0.9548611111111112\n",
            "7500/11225. Current accuracy: 0.9549333333333333\n",
            "7800/11225. Current accuracy: 0.9551282051282052\n",
            "8100/11225. Current accuracy: 0.955679012345679\n",
            "8400/11225. Current accuracy: 0.9551190476190476\n",
            "8700/11225. Current accuracy: 0.9556321839080459\n",
            "9000/11225. Current accuracy: 0.9556666666666667\n",
            "9300/11225. Current accuracy: 0.9556989247311828\n",
            "9600/11225. Current accuracy: 0.9560416666666667\n",
            "9900/11225. Current accuracy: 0.9565656565656566\n",
            "10200/11225. Current accuracy: 0.9565686274509804\n",
            "10500/11225. Current accuracy: 0.957047619047619\n",
            "10800/11225. Current accuracy: 0.9572222222222222\n",
            "11100/11225. Current accuracy: 0.9578378378378378\n",
            "Accuracy on test data: 0.9575055679287305\n"
          ],
          "name": "stdout"
        }
      ]
    },
    {
      "cell_type": "code",
      "metadata": {
        "id": "H_ZjYaNzBaXE"
      },
      "source": [
        "def test(text):\n",
        "    # text = clean_txt(text)\n",
        "    text_parts = preprocess_text(text)\n",
        "    overall_output = torch.zeros((1,2)).to(device)\n",
        "    try:\n",
        "        for part in text_parts:\n",
        "            if len(part) > 0:\n",
        "                overall_output += model(part.reshape(1, -1))[0]\n",
        "    except RuntimeError:\n",
        "        print(\"GPU out of memory, skipping this entry.\")\n",
        "\n",
        "    overall_output = F.softmax(overall_output[0], dim=-1)\n",
        "\n",
        "    value, result = overall_output.max(0)\n",
        "    term = \"fake\"\n",
        "    if result.item() == 0:\n",
        "        term = \"real\"\n",
        "\n",
        "    print(\"{} at {}%\".format(term, value.item() * 100))"
      ],
      "execution_count": 38,
      "outputs": []
    },
    {
      "cell_type": "code",
      "metadata": {
        "id": "XV8yhbm6BaXL",
        "outputId": "db619469-049d-43a1-d646-e6c9a0314d41",
        "colab": {
          "base_uri": "https://localhost:8080/"
        }
      },
      "source": [
        "fake = \"\"\"\n",
        "To confuse and add to the misleading of readers, World News Daily Report mixes some true stories with their fake ones.  Their disclaimer starts with a large headline reading \"NEWS YOU CAN TRUST,\" however, when you scroll to the bottom of the page, it reads:\n",
        "\n",
        "WNDR shall not be responsible for any incorrect or inaccurate information, whether caused by website users or by any of the equipment or programming associated with or utilized in this website or by any technical or human error which may occur.  WNDR assumes however all responsibility for the satirical nature of its articles and for the fictional nature of their content. All characters appearing in the articles in this website – even those based on real people –  are entirely fictional and any resemblance between them and any persons, living, dead, or undead is purely a miracle. \n",
        "\"\"\"\n",
        "\n",
        "true = \"\"\"\n",
        "Price spikes, however, would cause demand to wither and some expensive avocados might be leftover, and stores might try to ration avocados, he added.\n",
        "\"Exactly what the retail strategy would be in this case, I’m not sure. But we would have vastly fewer avocados,\" Sumner said.\n",
        "Just how fast avocados would disappear, if at all, would depend on whether the Trump administration enacts a full or partial border closure. White House economic adviser Larry Kudlow told CNBC he’s looking for ways to keep some commerce flowing.\n",
        "\"We are looking at different options, particularly if you can keep those freight lanes, the truck lanes, open,\" he said this week.  \n",
        "Ben Holtz owns Rocky H Ranch, a 70-acre family-run avocado farm in northern San Diego County. He agreed avocados would run out within weeks.\n",
        "\"Mexico is the big player today. California is not. You shut down the border and California can’t produce to meet the demand,\" Holtz said. \"There will be people without their guacamole.\"\n",
        "While Mexico’s avocado harvest is year-round, California’s is limited to April through July. Growers in the state have picked only about 3 percent of what’s expected to be a much smaller crop of about 175 million pounds this year, Holtz said. A heat wave last summer reduced the crop size.\n",
        "California’s avocado harvest has averaged approximately 300 million pounds in recent years, according to data from the California Avocado Commission. By contrast, the U.S. has imported more than 1.5 billion pounds of avocados from Mexico annually. Representatives from the commission did not respond to requests for this article.\n",
        "Altogether, the U.S. received 43 percent of its fruit and vegetable imports from Mexico in 2016, according to the U.S. Department of Agriculture.\n",
        "Also affecting this year’s avocado supply, a California avocado company in March recalled shipments to six states last month after fears the fruit might be contaminated with a bacterium that can cause health risks.\n",
        "Until the early 2000s, California was the nation’s leading supplier of avocados, Holtz said. Mexico gradually overtook the state and now dominates sales in the U.S.\n",
        "\"It’s a very big possibility,\" Holtz said of avocado shortages. \"Three weeks would dry up the Mexican inventory. California alone consumes more avocados than are grown in our state. Cold storage supply chain is basically three weeks or less of inventory. Most of the time it’s seven days.\"\n",
        "A spokeswoman for the California Restaurant Association said \"we haven’t heard concerns from restaurants, it doesn’t mean they aren’t worried.\" A national grocers association said it will \"continue to closely monitor any developments\" at the border, but did not have information about the potential impact on avocados.\n",
        "\"\"\"\n",
        "\n",
        "test(fake)\n",
        "test(true)"
      ],
      "execution_count": 39,
      "outputs": [
        {
          "output_type": "stream",
          "text": [
            "fake at 73.0758786201477%\n",
            "real at 87.9608690738678%\n"
          ],
          "name": "stdout"
        }
      ]
    },
    {
      "cell_type": "code",
      "metadata": {
        "id": "Zn2WiKoNGpQl"
      },
      "source": [
        ""
      ],
      "execution_count": 29,
      "outputs": []
    }
  ]
}